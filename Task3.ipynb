{
 "cells": [
  {
   "cell_type": "code",
   "execution_count": 1,
   "metadata": {},
   "outputs": [],
   "source": [
    "import pandas as pd"
   ]
  },
  {
   "cell_type": "code",
   "execution_count": 14,
   "metadata": {
    "scrolled": true
   },
   "outputs": [],
   "source": [
    "data = pd.read_csv(\"Task3/flag.data\")\n",
    "data.columns=['name', 'landmass','zone','area','population','language','religion','bars','stripes','colors','red','green','blue','gold','white','black','orange',\n",
    "             'mainhue','circles','crosses','saltires','quarters','sunstars','crescent','triangle','icon',\n",
    "             'animate','text','topleft','botright']"
   ]
  },
  {
   "cell_type": "code",
   "execution_count": 28,
   "metadata": {},
   "outputs": [
    {
     "name": "stdout",
     "output_type": "stream",
     "text": [
      "P(A|B) where A is no circles and B is no bars: 0.8227848101265823\n"
     ]
    }
   ],
   "source": [
    "total_number_flags=len(data)\n",
    "flags_without_bars=data[data['bars']<1]\n",
    "flags_without_bars_and_circles=flags_without_bars[flags_without_bars['circles']<1]\n",
    "probabilty=len(flags_without_bars_and_circles)/len(flags_without_bars)\n",
    "print('P(A|B) where A is no circles and B is no bars: {}'.format(probabilty))"
   ]
  },
  {
   "cell_type": "code",
   "execution_count": null,
   "metadata": {},
   "outputs": [],
   "source": []
  }
 ],
 "metadata": {
  "kernelspec": {
   "display_name": "Python 3",
   "language": "python",
   "name": "python3"
  },
  "language_info": {
   "codemirror_mode": {
    "name": "ipython",
    "version": 3
   },
   "file_extension": ".py",
   "mimetype": "text/x-python",
   "name": "python",
   "nbconvert_exporter": "python",
   "pygments_lexer": "ipython3",
   "version": "3.8.3"
  }
 },
 "nbformat": 4,
 "nbformat_minor": 4
}
